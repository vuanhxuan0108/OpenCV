{
 "cells": [
  {
   "cell_type": "markdown",
   "metadata": {},
   "source": [
    "### Bài 1: Truy suất ảnh"
   ]
  },
  {
   "cell_type": "code",
   "execution_count": 1,
   "metadata": {},
   "outputs": [],
   "source": [
    "import cv2\n",
    "# RGBA(red, green, blue, alpha), trong đó alpha là độ trong suốt giá trị trong đoạn [0, 1], càng gấn 0 càng trong suốt\n",
    "img = cv2.imread(r'image/OIP (5).jpg', flags=1) # Đọc vào ảnh, flag nhận 3 giá trị {-1, 0, 1}\n",
    "# cv2.IMREAD_COLOR #(1) trả về ảnh màu, bỏ qua kênh alpha (kênh trong suốt ảnh)\n",
    "# cv2.IMREAD_GRAYSCALE #(0) trả về ảnh đen trắng\n",
    "# cv2.IMREAD_UNCHANGED #(-1) trả về ảnh bao gồm cả kênh alpha (có độ trong suốt)\n",
    "cv2.imshow(\"Cửa sổ hiển thị\", img)\n",
    "k = cv2.waitKey()"
   ]
  },
  {
   "cell_type": "markdown",
   "metadata": {},
   "source": [
    "### Bài 2: Resize, xoay ảnh, lưu ảnh"
   ]
  },
  {
   "cell_type": "code",
   "execution_count": 2,
   "metadata": {},
   "outputs": [
    {
     "name": "stdout",
     "output_type": "stream",
     "text": [
      "-1\n"
     ]
    }
   ],
   "source": [
    "img = cv2.imread(r'image/OIP (5).jpg', flags=1)\n",
    "img = cv2.resize(img, (400, 400)) # Thay đổi kích thước ảnh rộng, dài\n",
    "img = cv2.resize(img, (0, 0), fx=1, fy=0.5) # Xuất ảnh bằng x lần ban đầu fx rộng, fy dài\n",
    "img = cv2.rotate(img, cv2.ROTATE_180) # Xoay ảnh\n",
    "cv2.imshow(\"Cửa sổ hiển thị\", img)\n",
    "k = cv2.waitKey() # cv2.waitKey(milisecond)\n",
    "print(k)\n",
    "if k == ord(\"s\"): # lưu thành file sau khi nhấn phím s\n",
    "    cv2.imwrite(\"anhmoi.jpg\", img)"
   ]
  },
  {
   "cell_type": "markdown",
   "metadata": {},
   "source": [
    "### Bài 3: Cách máy tính đọc ảnh, copy vùng ảnh"
   ]
  },
  {
   "cell_type": "code",
   "execution_count": 3,
   "metadata": {},
   "outputs": [
    {
     "name": "stdout",
     "output_type": "stream",
     "text": [
      "<class 'numpy.ndarray'>\n",
      "(266, 459, 3)\n"
     ]
    },
    {
     "data": {
      "text/plain": [
       "113"
      ]
     },
     "execution_count": 3,
     "metadata": {},
     "output_type": "execute_result"
    }
   ],
   "source": [
    "import cv2\n",
    "import random\n",
    "img = cv2.imread(r'image/OIP (3).jpg', flags=1)\n",
    "# print(img) # Hình ảnh được biểu diễn bởi ma trận điểm ảnh\n",
    "print(type(img)) # <class 'numpy.ndarray'>\n",
    "print(img.shape) # (chiều cao/dòng, chiều rộng/cột, kênh)\n",
    "# print(img[75]) # Xuất data dòng 75\n",
    "# Ghi đè dải màu ngẫu nhiên\n",
    "# for i in range (0, img.shape[0]):\n",
    "#     for j in range (0, img.shape[1]):\n",
    "#         if j%10==0:\n",
    "#             img[i][j] = [random.randint(0, 255), random.randint(0, 255), random.randint(0, 255)]\n",
    "#         if i%10==0:\n",
    "#             img[i][j] = [random.randint(0, 255), random.randint(0, 255), random.randint(0, 255)]\n",
    "# Copy 1 vùng ảnh\n",
    "vung_chon = img[0: 155, :255]\n",
    "img[0:155, 120:375] = vung_chon\n",
    "cv2.imshow(\"Cửa sổ hiển thị\", img)\n",
    "cv2.waitKey()"
   ]
  },
  {
   "cell_type": "markdown",
   "metadata": {},
   "source": [
    "### Bài 4: Camera in python"
   ]
  },
  {
   "cell_type": "code",
   "execution_count": 4,
   "metadata": {},
   "outputs": [],
   "source": [
    "import numpy as np\n",
    "import cv2\n",
    "cap = cv2.VideoCapture(0) # Nếu có nhiều cam thì thêm id webcam 1, 2, 3,....\n",
    "# cap = cv2.VideoCapture(\"1.mp4\") # Nếu không có cam, có thể thay bằng video name\n",
    "while True:\n",
    "    ret, frame = cap.read()\n",
    "    # ret trả về True/False\n",
    "    # True khi quá trình chụp ảnh diễn ra ok\n",
    "    # False khi camera bị chiếm dụng bởi phần mềm khác\n",
    "    width = int(cap.get(3)) # lấy ra chiều rộng khung hình\n",
    "    heigh = int(cap.get(4)) # lấy ra chiều dài khung hình\n",
    "    small_frame = cv2.resize(frame, (0, 0), fx=0.5, fy=0.5)\n",
    "    image = np.zeros(frame.shape, np.uint8)\n",
    "    image[:heigh//2, :width//2] = small_frame\n",
    "    image[:heigh//2, width//2:] = cv2.rotate(small_frame, cv2.ROTATE_180)\n",
    "    image[heigh//2:, :width//2] = cv2.rotate(small_frame, cv2.ROTATE_180)\n",
    "    image[heigh//2:, width//2:] = small_frame\n",
    "    cv2.imshow(\"Cửa sổ camera\", image)\n",
    "    if cv2.waitKey(1)==ord(\"q\"):\n",
    "        cv2.imwrite(\"anhmoi.jpg\", image)\n",
    "        break\n",
    "cap.release() # Giải phóng camera\n",
    "cv2.destroyAllWindows() # Thoát tất cả các cửa sổ"
   ]
  },
  {
   "cell_type": "markdown",
   "metadata": {},
   "source": [
    "### Bài 5: Vẽ line, hình tròn, hình chữ nhật trên webcam, video, ảnh"
   ]
  },
  {
   "cell_type": "code",
   "execution_count": 38,
   "metadata": {},
   "outputs": [],
   "source": [
    "import cv2\n",
    "img = cv2.imread(r\"image/OIF (3).jpg\", flags=1)\n",
    "img = cv2.rectangle(img, (145, 100), (220, 240), (255, 255, 255), 1) # vẽ đường viền chữ nhật\n",
    "# (0, 0) tọa độ điểm bắt đầu (hoành, tung, ở trên cùng bên trái)\n",
    "# (200, 400) tọa độ điểm kết thúc (hoành, tung, gốc ở dưới cùng bên phải)\n",
    "# (255, 255, 255) mã màu RGB\n",
    "# 10 độ dày đường viền chữ nhật (neeys là -1 sẽ kín hình chữ nhật)\n",
    "img = cv2.rectangle(img, (145, 100), (220, 240), (255, 255, 255), 2)\n",
    "img = cv2.rectangle(img, (210, 130), (310, 235), (5, 255, 255), 2)\n",
    "img = cv2.rectangle(img, (120, 150), (180, 235), (5, 5, 255), 2)\n",
    "img = cv2.rectangle(img, (40, 170), (135, 240), (5, 5, 5), 2)\n",
    "cv2.imshow(\"Cửa sổ hiển thị\", img)\n",
    "k = cv2.waitKey()"
   ]
  },
  {
   "cell_type": "code",
   "execution_count": null,
   "metadata": {},
   "outputs": [],
   "source": [
    "import cv2\n",
    "cap = cv2.VideoCapture(0)\n",
    "while True:\n",
    "    ret, frame = cap.read()\n",
    "    width = int(cap.get(3))\n",
    "    heigh = int(cap.get(4))\n",
    "    img = cv2.line(frame, (0, heigh//2), (width//2, heigh), (0, 0, 255), 5) # Vẽ đường thẳng\n",
    "    img = cv2.line(frame, (width//2, heigh), (width, heigh//2), (0, 0, 255), 5)\n",
    "    img = cv2.line(frame, (width, heigh//2), (width//2, 0), (0, 0, 255), 5)\n",
    "    img = cv2.line(frame, (width//2, 0), (0, heigh//2), (0, 0, 255), 5)\n",
    "    img = cv2.resize(frame, (0, 0), fx = 1.2, fy = 1.1)\n",
    "    cv2.imshow(\"Cửa sổ camera\", img)\n",
    "    if cv2.waitKey(1) == ord(\"q\"):\n",
    "        break\n",
    "cap.release()\n",
    "cv2.destroyAllWindows()"
   ]
  },
  {
   "cell_type": "code",
   "execution_count": null,
   "metadata": {},
   "outputs": [],
   "source": [
    "import cv2\n",
    "cap = cv2.VideoCapture(0)\n",
    "while True:\n",
    "    ret, frame = cap.read()\n",
    "    width = int(cap.get(3))\n",
    "    heigh = int(cap.get(4))\n",
    "    img = cv2.circle(frame, (width//2, heigh//2), 100, (0, 255, 0), 1) # Vẽ đường tròn\n",
    "    img = cv2.resize(frame, (0, 0), fx = 1.2, fy = 1.1)\n",
    "    cv2.imshow(\"Cửa sổ camera\", img)\n",
    "    if cv2.waitKey(1) == ord(\"q\"):\n",
    "        break\n",
    "cap.release()\n",
    "cv2.destroyAllWindows()"
   ]
  },
  {
   "cell_type": "code",
   "execution_count": 78,
   "metadata": {},
   "outputs": [],
   "source": [
    "import cv2\n",
    "cap = cv2.VideoCapture(0)\n",
    "while True:\n",
    "    ret, frame = cap.read()\n",
    "    width = int(cap.get(3))\n",
    "    heigh = int(cap.get(4))\n",
    "    font = cv2.FONT_HERSHEY_SCRIPT_COMPLEX\n",
    "    img = cv2.putText(frame, \"Happy New Year!\", (width//2-250, heigh//2), font, 2, (0, 0, 255))\n",
    "    cv2.imshow(\"Cửa sổ camera\", img)\n",
    "    if cv2.waitKey(1) == ord(\"q\"):\n",
    "        cv2.imwrite(\"anhmoi.jpg\", img)\n",
    "        break\n",
    "cap.release()\n",
    "cv2.destroyAllWindows()"
   ]
  }
 ],
 "metadata": {
  "kernelspec": {
   "display_name": "base",
   "language": "python",
   "name": "python3"
  },
  "language_info": {
   "codemirror_mode": {
    "name": "ipython",
    "version": 3
   },
   "file_extension": ".py",
   "mimetype": "text/x-python",
   "name": "python",
   "nbconvert_exporter": "python",
   "pygments_lexer": "ipython3",
   "version": "3.11.5"
  }
 },
 "nbformat": 4,
 "nbformat_minor": 2
}
