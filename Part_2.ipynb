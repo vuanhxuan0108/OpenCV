{
 "cells": [
  {
   "cell_type": "markdown",
   "metadata": {},
   "source": [
    "### Bài 6: Nhận diện đếm ngón tay"
   ]
  },
  {
   "cell_type": "code",
   "execution_count": 1,
   "metadata": {},
   "outputs": [
    {
     "name": "stderr",
     "output_type": "stream",
     "text": [
      "c:\\Users\\84936\\anaconda3\\Lib\\site-packages\\pandas\\core\\arrays\\masked.py:60: UserWarning: Pandas requires version '1.3.6' or newer of 'bottleneck' (version '1.3.5' currently installed).\n",
      "  from pandas.core import (\n"
     ]
    }
   ],
   "source": [
    "import cv2\n",
    "import time\n",
    "import os\n",
    "import hand as htm\n",
    "cap = cv2.VideoCapture(0)\n",
    "\n",
    "FodlderPath = \"Fingers\"\n",
    "lst = os.listdir(FodlderPath) # mảng các đường dẫn trong thư mục Fingers\n",
    "lst_2 = []\n",
    "arr_hand = [8, 12, 16, 20]\n",
    "pTime = 0\n",
    "for i in lst:\n",
    "    img = cv2.imread(f\"{FodlderPath}/{i}\")\n",
    "    img = cv2.resize(img, (100, 150))\n",
    "    lst_2.append(img)\n",
    "detector = htm.handDetector(detectionCon=1)\n",
    "while True:\n",
    "    count = 0\n",
    "    ret, frame = cap.read()\n",
    "    frame = detector.findHands(frame)\n",
    "    lmList = detector.findPosition(frame, draw=False)\n",
    "\n",
    "    if len(lmList) !=0:\n",
    "        for i in arr_hand:\n",
    "            if lmList[i][2]<lmList[i-2][2]:\n",
    "                count+=1\n",
    "        if lmList[4][1]<lmList[3][1]:\n",
    "                count+=1\n",
    "\n",
    "    (h, w, c) = lst_2[count-1].shape\n",
    "    font = cv2.FONT_HERSHEY_PLAIN\n",
    "    img = cv2.putText(frame, str(count), (20, h+190), font, 5, (0, 0, 255), 4)\n",
    "    img = cv2.rectangle(frame, (0, h+100), (w, h+220), (0, 255, 0), -1)\n",
    "    frame[:h, :w] = lst_2[count-1]\n",
    "    # Viết ra FPS\n",
    "    cTime = time.time()\n",
    "    fps = 1/(cTime - pTime)\n",
    "    pTime = cTime\n",
    "    font = cv2.FONT_HERSHEY_PLAIN\n",
    "    img = cv2.putText(frame, \"FPS: \"+str(int(fps))+\" ms\", (w+20, 50), font, 2, (255, 0, 0), 2)\n",
    "    cv2.imshow(\"Cửa sổ hiển thị\", frame)\n",
    "    if cv2.waitKey(1)==ord(\"q\"):\n",
    "        break\n",
    "cap.release()\n",
    "cv2.destroyAllWindows()"
   ]
  }
 ],
 "metadata": {
  "kernelspec": {
   "display_name": "base",
   "language": "python",
   "name": "python3"
  },
  "language_info": {
   "codemirror_mode": {
    "name": "ipython",
    "version": 3
   },
   "file_extension": ".py",
   "mimetype": "text/x-python",
   "name": "python",
   "nbconvert_exporter": "python",
   "pygments_lexer": "ipython3",
   "version": "3.11.5"
  }
 },
 "nbformat": 4,
 "nbformat_minor": 2
}
